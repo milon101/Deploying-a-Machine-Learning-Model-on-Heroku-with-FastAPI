{
 "cells": [
  {
   "cell_type": "code",
   "execution_count": 1,
   "id": "7cc0ab0d",
   "metadata": {},
   "outputs": [
    {
     "name": "stderr",
     "output_type": "stream",
     "text": [
      "Failed to detect the name of this notebook, you can set it manually with the WANDB_NOTEBOOK_NAME environment variable to enable code saving.\n",
      "\u001b[34m\u001b[1mwandb\u001b[0m: Currently logged in as: \u001b[33mmilon101\u001b[0m. Use \u001b[1m`wandb login --relogin`\u001b[0m to force relogin\n"
     ]
    },
    {
     "data": {
      "text/html": [
       "wandb version 0.12.21 is available!  To upgrade, please run:\n",
       " $ pip install wandb --upgrade"
      ],
      "text/plain": [
       "<IPython.core.display.HTML object>"
      ]
     },
     "metadata": {},
     "output_type": "display_data"
    },
    {
     "data": {
      "text/html": [
       "Tracking run with wandb version 0.12.19"
      ],
      "text/plain": [
       "<IPython.core.display.HTML object>"
      ]
     },
     "metadata": {},
     "output_type": "display_data"
    },
    {
     "data": {
      "text/html": [
       "Run data is saved locally in <code>/home/imdadul/Project Folder/Deploying a Machine Learning Model on Heroku with FastAPI/src/eda/wandb/run-20220712_224354-ajep737j</code>"
      ],
      "text/plain": [
       "<IPython.core.display.HTML object>"
      ]
     },
     "metadata": {},
     "output_type": "display_data"
    },
    {
     "data": {
      "text/html": [
       "Syncing run <strong><a href=\"https://wandb.ai/milon101/usa_census/runs/ajep737j\" target=\"_blank\">solar-flower-70</a></strong> to <a href=\"https://wandb.ai/milon101/usa_census\" target=\"_blank\">Weights & Biases</a> (<a href=\"https://wandb.me/run\" target=\"_blank\">docs</a>)<br/>"
      ],
      "text/plain": [
       "<IPython.core.display.HTML object>"
      ]
     },
     "metadata": {},
     "output_type": "display_data"
    },
    {
     "name": "stderr",
     "output_type": "stream",
     "text": [
      "/home/imdadul/miniconda3/envs/nyc_airbnb_dev/lib/python3.10/site-packages/IPython/core/interactiveshell.py:3398: FutureWarning: In a future version of pandas all arguments of read_csv except for the argument 'filepath_or_buffer' will be keyword-only.\n",
      "  exec(code_obj, self.user_global_ns, self.user_ns)\n"
     ]
    }
   ],
   "source": [
    "# import libraries\n",
    "import wandb\n",
    "import pandas as pd\n",
    "                                                                                                                                                                                                                                                                                                                                                                                                                                                                                                                         \n",
    "run = wandb.init(project=\"usa_census\", group=\"eda\", save_code=True)\n",
    "local_path = wandb.use_artifact(\"census.csv:latest\").file()\n",
    "df = pd.read_csv(local_path, \" \")"
   ]
  },
  {
   "cell_type": "code",
   "execution_count": 20,
   "id": "4624413f",
   "metadata": {},
   "outputs": [],
   "source": [
    "df = pd.read_csv(local_path, skipinitialspace=True)"
   ]
  },
  {
   "cell_type": "code",
   "execution_count": 2,
   "id": "cb2a1f68",
   "metadata": {},
   "outputs": [
    {
     "data": {
      "text/html": [
       "Waiting for W&B process to finish... <strong style=\"color:green\">(success).</strong>"
      ],
      "text/plain": [
       "<IPython.core.display.HTML object>"
      ]
     },
     "metadata": {},
     "output_type": "display_data"
    },
    {
     "data": {
      "application/vnd.jupyter.widget-view+json": {
       "model_id": "1e20631e66c0406f8c9f56729d976acc",
       "version_major": 2,
       "version_minor": 0
      },
      "text/plain": [
       "VBox(children=(Label(value='0.050 MB of 0.050 MB uploaded (0.000 MB deduped)\\r'), FloatProgress(value=1.0, max…"
      ]
     },
     "metadata": {},
     "output_type": "display_data"
    },
    {
     "data": {
      "text/html": [
       "Synced <strong style=\"color:#cdcd00\">solar-flower-70</strong>: <a href=\"https://wandb.ai/milon101/usa_census/runs/ajep737j\" target=\"_blank\">https://wandb.ai/milon101/usa_census/runs/ajep737j</a><br/>Synced 7 W&B file(s), 0 media file(s), 0 artifact file(s) and 2 other file(s)"
      ],
      "text/plain": [
       "<IPython.core.display.HTML object>"
      ]
     },
     "metadata": {},
     "output_type": "display_data"
    },
    {
     "data": {
      "text/html": [
       "Find logs at: <code>./wandb/run-20220712_224354-ajep737j/logs</code>"
      ],
      "text/plain": [
       "<IPython.core.display.HTML object>"
      ]
     },
     "metadata": {},
     "output_type": "display_data"
    }
   ],
   "source": [
    "run.finish()"
   ]
  },
  {
   "cell_type": "code",
   "execution_count": 5,
   "id": "c09255e0",
   "metadata": {},
   "outputs": [
    {
     "data": {
      "application/vnd.jupyter.widget-view+json": {
       "model_id": "67b0925dd81e42429ba69edbaf6de0b1",
       "version_major": 2,
       "version_minor": 0
      },
      "text/plain": [
       "Summarize dataset:   0%|          | 0/29 [00:00<?, ?it/s]"
      ]
     },
     "metadata": {},
     "output_type": "display_data"
    },
    {
     "data": {
      "application/vnd.jupyter.widget-view+json": {
       "model_id": "7e42e62ac5f34756ad914097b1b26d31",
       "version_major": 2,
       "version_minor": 0
      },
      "text/plain": [
       "Generate report structure:   0%|          | 0/1 [00:00<?, ?it/s]"
      ]
     },
     "metadata": {},
     "output_type": "display_data"
    },
    {
     "data": {
      "application/vnd.jupyter.widget-view+json": {
       "model_id": "1cd67eb806b54499afa9b10d43c07bc8",
       "version_major": 2,
       "version_minor": 0
      },
      "text/plain": [
       "Render widgets:   0%|          | 0/1 [00:00<?, ?it/s]"
      ]
     },
     "metadata": {},
     "output_type": "display_data"
    },
    {
     "data": {
      "application/vnd.jupyter.widget-view+json": {
       "model_id": "1ad42afa15af4216928c718ec39afe6c",
       "version_major": 2,
       "version_minor": 0
      },
      "text/plain": [
       "VBox(children=(Tab(children=(Tab(children=(GridBox(children=(VBox(children=(GridspecLayout(children=(HTML(valu…"
      ]
     },
     "metadata": {},
     "output_type": "display_data"
    }
   ],
   "source": [
    "# using pandas_profilisng library to get an overall overview of the data\n",
    "import pandas_profiling\n",
    "                                                                                                                                                                                                                    \n",
    "profile = pandas_profiling.ProfileReport(df)\n",
    "profile.to_widgets()"
   ]
  },
  {
   "cell_type": "code",
   "execution_count": 29,
   "id": "ae73474a",
   "metadata": {},
   "outputs": [
    {
     "data": {
      "text/plain": [
       "array(['United-States', 'Cuba', 'Jamaica', 'India', '?', 'Mexico',\n",
       "       'South', 'Puerto-Rico', 'Honduras', 'England', 'Canada', 'Germany',\n",
       "       'Iran', 'Philippines', 'Italy', 'Poland', 'Columbia', 'Cambodia',\n",
       "       'Thailand', 'Ecuador', 'Laos', 'Taiwan', 'Haiti', 'Portugal',\n",
       "       'Dominican-Republic', 'El-Salvador', 'France', 'Guatemala',\n",
       "       'China', 'Japan', 'Yugoslavia', 'Peru',\n",
       "       'Outlying-US(Guam-USVI-etc)', 'Scotland', 'Trinadad&Tobago',\n",
       "       'Greece', 'Nicaragua', 'Vietnam', 'Hong', 'Ireland', 'Hungary',\n",
       "       'Holand-Netherlands'], dtype=object)"
      ]
     },
     "execution_count": 29,
     "metadata": {},
     "output_type": "execute_result"
    }
   ],
   "source": [
    "df[\"native-country\"].unique()\n",
    "# df.columns"
   ]
  },
  {
   "cell_type": "markdown",
   "id": "03766ae2",
   "metadata": {},
   "source": [
    " There are missing values in a few columns and the column `last_review` is a date but it is in string format. Look also at the `price` column, and note the outliers. There are some zeros and   some very high prices. After talking to your stakeholders, you decide to consider from a minimum of \\$ 10 to a maximum of \\$ 350 per night. Fix some of the little problems we have found in the data with the following code:"
   ]
  },
  {
   "cell_type": "code",
   "execution_count": 2,
   "id": "d79c5557",
   "metadata": {},
   "outputs": [
    {
     "name": "stdout",
     "output_type": "stream",
     "text": [
      "<class 'pandas.core.frame.DataFrame'>\n",
      "Int64Index: 30162 entries, 0 to 32560\n",
      "Data columns (total 15 columns):\n",
      " #   Column           Non-Null Count  Dtype \n",
      "---  ------           --------------  ----- \n",
      " 0   age              30162 non-null  int64 \n",
      " 1    workclass       30162 non-null  object\n",
      " 2    fnlwgt          30162 non-null  int64 \n",
      " 3    education       30162 non-null  object\n",
      " 4    education-num   30162 non-null  int64 \n",
      " 5    marital-status  30162 non-null  object\n",
      " 6    occupation      30162 non-null  object\n",
      " 7    relationship    30162 non-null  object\n",
      " 8    race            30162 non-null  object\n",
      " 9    sex             30162 non-null  object\n",
      " 10   capital-gain    30162 non-null  int64 \n",
      " 11   capital-loss    30162 non-null  int64 \n",
      " 12   hours-per-week  30162 non-null  int64 \n",
      " 13   native-country  30162 non-null  object\n",
      " 14   salary          30162 non-null  object\n",
      "dtypes: int64(6), object(9)\n",
      "memory usage: 3.7+ MB\n"
     ]
    }
   ],
   "source": [
    "\n",
    "import numpy as np\n",
    "df = df.replace('\\?', np.nan, regex=True)\n",
    "df.dropna(inplace=True)\n",
    "df.info()"
   ]
  },
  {
   "cell_type": "code",
   "execution_count": 3,
   "id": "a201b678",
   "metadata": {},
   "outputs": [
    {
     "data": {
      "application/vnd.jupyter.widget-view+json": {
       "model_id": "1df6b12286834cbbbdcabf80f44107eb",
       "version_major": 2,
       "version_minor": 0
      },
      "text/plain": [
       "Summarize dataset:   0%|          | 0/30 [00:00<?, ?it/s]"
      ]
     },
     "metadata": {},
     "output_type": "display_data"
    },
    {
     "data": {
      "application/vnd.jupyter.widget-view+json": {
       "model_id": "9feeacb498d64ee5984d42c72ddef23c",
       "version_major": 2,
       "version_minor": 0
      },
      "text/plain": [
       "Generate report structure:   0%|          | 0/1 [00:00<?, ?it/s]"
      ]
     },
     "metadata": {},
     "output_type": "display_data"
    },
    {
     "data": {
      "application/vnd.jupyter.widget-view+json": {
       "model_id": "b9bc948b848e4e1693a33cc71d75ca6a",
       "version_major": 2,
       "version_minor": 0
      },
      "text/plain": [
       "Render widgets:   0%|          | 0/1 [00:00<?, ?it/s]"
      ]
     },
     "metadata": {},
     "output_type": "display_data"
    },
    {
     "data": {
      "application/vnd.jupyter.widget-view+json": {
       "model_id": "e6f9a6e3d0064e9bb156192103fc636e",
       "version_major": 2,
       "version_minor": 0
      },
      "text/plain": [
       "VBox(children=(Tab(children=(Tab(children=(GridBox(children=(VBox(children=(GridspecLayout(children=(HTML(valu…"
      ]
     },
     "metadata": {},
     "output_type": "display_data"
    }
   ],
   "source": [
    "import pandas_profiling\n",
    "profile = pandas_profiling.ProfileReport(df)\n",
    "profile.to_widgets()\n"
   ]
  },
  {
   "cell_type": "code",
   "execution_count": 7,
   "id": "1285ee3a",
   "metadata": {},
   "outputs": [
    {
     "name": "stdout",
     "output_type": "stream",
     "text": [
      "     age   workclass   fnlwgt      education   education-num  \\\n",
      "0     39   State-gov    77516      Bachelors              13   \n",
      "11    30   State-gov   141297      Bachelors              13   \n",
      "34    22   State-gov   311512   Some-college              10   \n",
      "48    41   State-gov   101603      Assoc-voc              11   \n",
      "123   29   State-gov   267989      Bachelors              13   \n",
      "\n",
      "          marital-status       occupation    relationship  \\\n",
      "0          Never-married     Adm-clerical   Not-in-family   \n",
      "11    Married-civ-spouse   Prof-specialty         Husband   \n",
      "34    Married-civ-spouse    Other-service         Husband   \n",
      "48    Married-civ-spouse     Craft-repair         Husband   \n",
      "123   Married-civ-spouse   Prof-specialty         Husband   \n",
      "\n",
      "                    race    sex   capital-gain   capital-loss  \\\n",
      "0                  White   Male           2174              0   \n",
      "11    Asian-Pac-Islander   Male              0              0   \n",
      "34                 Black   Male              0              0   \n",
      "48                 White   Male              0              0   \n",
      "123                White   Male              0              0   \n",
      "\n",
      "      hours-per-week  native-country  salary  \n",
      "0                 40   United-States   <=50K  \n",
      "11                40           India    >50K  \n",
      "34                15   United-States   <=50K  \n",
      "48                40   United-States   <=50K  \n",
      "123               50   United-States    >50K  \n",
      "    age          workclass   fnlwgt    education   education-num  \\\n",
      "1    50   Self-emp-not-inc    83311    Bachelors              13   \n",
      "7    52   Self-emp-not-inc   209642      HS-grad               9   \n",
      "16   25   Self-emp-not-inc   176756      HS-grad               9   \n",
      "19   43   Self-emp-not-inc   292175      Masters              14   \n",
      "39   48   Self-emp-not-inc   265477   Assoc-acdm              12   \n",
      "\n",
      "         marital-status        occupation  relationship    race      sex  \\\n",
      "1    Married-civ-spouse   Exec-managerial       Husband   White     Male   \n",
      "7    Married-civ-spouse   Exec-managerial       Husband   White     Male   \n",
      "16        Never-married   Farming-fishing     Own-child   White     Male   \n",
      "19             Divorced   Exec-managerial     Unmarried   White   Female   \n",
      "39   Married-civ-spouse    Prof-specialty       Husband   White     Male   \n",
      "\n",
      "     capital-gain   capital-loss   hours-per-week  native-country  salary  \n",
      "1               0              0               13   United-States   <=50K  \n",
      "7               0              0               45   United-States    >50K  \n",
      "16              0              0               35   United-States   <=50K  \n",
      "19              0              0               45   United-States    >50K  \n",
      "39              0              0               40   United-States   <=50K  \n",
      "   age  workclass   fnlwgt   education   education-num  \\\n",
      "2   38    Private   215646     HS-grad               9   \n",
      "3   53    Private   234721        11th               7   \n",
      "4   28    Private   338409   Bachelors              13   \n",
      "5   37    Private   284582     Masters              14   \n",
      "6   49    Private   160187         9th               5   \n",
      "\n",
      "           marital-status          occupation    relationship    race  \\\n",
      "2                Divorced   Handlers-cleaners   Not-in-family   White   \n",
      "3      Married-civ-spouse   Handlers-cleaners         Husband   Black   \n",
      "4      Married-civ-spouse      Prof-specialty            Wife   Black   \n",
      "5      Married-civ-spouse     Exec-managerial            Wife   White   \n",
      "6   Married-spouse-absent       Other-service   Not-in-family   Black   \n",
      "\n",
      "       sex   capital-gain   capital-loss   hours-per-week  native-country  \\\n",
      "2     Male              0              0               40   United-States   \n",
      "3     Male              0              0               40   United-States   \n",
      "4   Female              0              0               40            Cuba   \n",
      "5   Female              0              0               40   United-States   \n",
      "6   Female              0              0               16         Jamaica   \n",
      "\n",
      "   salary  \n",
      "2   <=50K  \n",
      "3   <=50K  \n",
      "4   <=50K  \n",
      "5   <=50K  \n",
      "6   <=50K  \n",
      "    age     workclass   fnlwgt      education   education-num  \\\n",
      "22   35   Federal-gov    76845            9th               5   \n",
      "33   30   Federal-gov    59951   Some-college              10   \n",
      "45   57   Federal-gov   337895      Bachelors              13   \n",
      "53   50   Federal-gov   251585      Bachelors              13   \n",
      "89   43   Federal-gov   410867      Doctorate              16   \n",
      "\n",
      "         marital-status        occupation    relationship    race      sex  \\\n",
      "22   Married-civ-spouse   Farming-fishing         Husband   Black     Male   \n",
      "33   Married-civ-spouse      Adm-clerical       Own-child   White     Male   \n",
      "45   Married-civ-spouse    Prof-specialty         Husband   Black     Male   \n",
      "53             Divorced   Exec-managerial   Not-in-family   White     Male   \n",
      "89        Never-married    Prof-specialty   Not-in-family   White   Female   \n",
      "\n",
      "     capital-gain   capital-loss   hours-per-week  native-country  salary  \n",
      "22              0              0               40   United-States   <=50K  \n",
      "33              0              0               40   United-States   <=50K  \n",
      "45              0              0               40   United-States    >50K  \n",
      "53              0              0               55   United-States    >50K  \n",
      "89              0              0               50   United-States    >50K  \n",
      "    age   workclass   fnlwgt    education   education-num  \\\n",
      "25   56   Local-gov   216851    Bachelors              13   \n",
      "30   23   Local-gov   190709   Assoc-acdm              12   \n",
      "79   31   Local-gov   125927      7th-8th               4   \n",
      "86   49   Local-gov   268234      HS-grad               9   \n",
      "94   34   Local-gov   226296    Bachelors              13   \n",
      "\n",
      "         marital-status        occupation    relationship    race    sex  \\\n",
      "25   Married-civ-spouse      Tech-support         Husband   White   Male   \n",
      "30        Never-married   Protective-serv   Not-in-family   White   Male   \n",
      "79   Married-civ-spouse   Farming-fishing         Husband   White   Male   \n",
      "86   Married-civ-spouse   Protective-serv         Husband   White   Male   \n",
      "94   Married-civ-spouse   Protective-serv         Husband   White   Male   \n",
      "\n",
      "     capital-gain   capital-loss   hours-per-week  native-country  salary  \n",
      "25              0              0               40   United-States    >50K  \n",
      "30              0              0               52   United-States   <=50K  \n",
      "79              0              0               40   United-States   <=50K  \n",
      "86              0              0               40   United-States    >50K  \n",
      "94              0              0               40   United-States    >50K  \n",
      "     age  workclass   fnlwgt      education   education-num  \\\n",
      "27    54          ?   180211   Some-college              10   \n",
      "61    32          ?   293936        7th-8th               4   \n",
      "69    25          ?   200681   Some-college              10   \n",
      "77    67          ?   212759           10th               6   \n",
      "106   17          ?   304873           10th               6   \n",
      "\n",
      "             marital-status  occupation    relationship                 race  \\\n",
      "27       Married-civ-spouse           ?         Husband   Asian-Pac-Islander   \n",
      "61    Married-spouse-absent           ?   Not-in-family                White   \n",
      "69            Never-married           ?       Own-child                White   \n",
      "77       Married-civ-spouse           ?         Husband                White   \n",
      "106           Never-married           ?       Own-child                White   \n",
      "\n",
      "         sex   capital-gain   capital-loss   hours-per-week  native-country  \\\n",
      "27      Male              0              0               60           South   \n",
      "61      Male              0              0               40               ?   \n",
      "69      Male              0              0               40   United-States   \n",
      "77      Male              0              0                2   United-States   \n",
      "106   Female          34095              0               32   United-States   \n",
      "\n",
      "     salary  \n",
      "27     >50K  \n",
      "61    <=50K  \n",
      "69    <=50K  \n",
      "77    <=50K  \n",
      "106   <=50K  \n",
      "     age      workclass   fnlwgt      education   education-num  \\\n",
      "54    47   Self-emp-inc   109832        HS-grad               9   \n",
      "68    49   Self-emp-inc   191681   Some-college              10   \n",
      "105   32   Self-emp-inc   317660        HS-grad               9   \n",
      "116   56   Self-emp-inc   303090   Some-college              10   \n",
      "140   61   Self-emp-inc    66614        HS-grad               9   \n",
      "\n",
      "          marital-status        occupation    relationship    race    sex  \\\n",
      "54              Divorced   Exec-managerial   Not-in-family   White   Male   \n",
      "68    Married-civ-spouse   Exec-managerial         Husband   White   Male   \n",
      "105   Married-civ-spouse      Craft-repair         Husband   White   Male   \n",
      "116   Married-civ-spouse             Sales         Husband   White   Male   \n",
      "140   Married-civ-spouse      Craft-repair         Husband   White   Male   \n",
      "\n",
      "      capital-gain   capital-loss   hours-per-week  native-country  salary  \n",
      "54               0              0               60   United-States   <=50K  \n",
      "68               0              0               50   United-States    >50K  \n",
      "105           7688              0               40   United-States    >50K  \n",
      "116              0              0               50   United-States   <=50K  \n",
      "140              0              0               40   United-States   <=50K  \n",
      "       age     workclass   fnlwgt  education   education-num  \\\n",
      "1901    65   Without-pay    27012    7th-8th               4   \n",
      "9257    19   Without-pay   344858    HS-grad               9   \n",
      "15533   21   Without-pay   232719    HS-grad               9   \n",
      "15695   22   Without-pay   302347    HS-grad               9   \n",
      "16812   46   Without-pay   142210    HS-grad               9   \n",
      "\n",
      "            marital-status          occupation  relationship    race      sex  \\\n",
      "1901               Widowed     Farming-fishing     Unmarried   White   Female   \n",
      "9257         Never-married     Farming-fishing     Own-child   White     Male   \n",
      "15533        Never-married        Craft-repair     Own-child   Black     Male   \n",
      "15695        Never-married   Handlers-cleaners     Own-child   White     Male   \n",
      "16812   Married-civ-spouse   Machine-op-inspct          Wife   White   Female   \n",
      "\n",
      "        capital-gain   capital-loss   hours-per-week  native-country  salary  \n",
      "1901               0              0               50   United-States   <=50K  \n",
      "9257               0              0               20   United-States   <=50K  \n",
      "15533              0              0               40   United-States   <=50K  \n",
      "15695           4416              0               40   United-States   <=50K  \n",
      "16812              0              0               25   United-States   <=50K  \n",
      "       age      workclass   fnlwgt      education   education-num  \\\n",
      "5361    18   Never-worked   206359           10th               6   \n",
      "10845   23   Never-worked   188535        7th-8th               4   \n",
      "14772   17   Never-worked   237272           10th               6   \n",
      "20337   18   Never-worked   157131           11th               7   \n",
      "23232   20   Never-worked   462294   Some-college              10   \n",
      "\n",
      "       marital-status  occupation    relationship    race      sex  \\\n",
      "5361    Never-married           ?       Own-child   White     Male   \n",
      "10845        Divorced           ?   Not-in-family   White     Male   \n",
      "14772   Never-married           ?       Own-child   White     Male   \n",
      "20337   Never-married           ?       Own-child   White   Female   \n",
      "23232   Never-married           ?       Own-child   Black     Male   \n",
      "\n",
      "        capital-gain   capital-loss   hours-per-week  native-country  salary  \n",
      "5361               0              0               40   United-States   <=50K  \n",
      "10845              0              0               35   United-States   <=50K  \n",
      "14772              0              0               30   United-States   <=50K  \n",
      "20337              0              0               10   United-States   <=50K  \n",
      "23232              0              0               40   United-States   <=50K  \n"
     ]
    },
    {
     "name": "stderr",
     "output_type": "stream",
     "text": [
      "wandb: Network error (ReadTimeout), entering retry loop.\n",
      "wandb: Network error (ReadTimeout), entering retry loop.\n",
      "wandb: Network error (ReadTimeout), entering retry loop.\n",
      "wandb: Network error (ReadTimeout), entering retry loop.\n"
     ]
    }
   ],
   "source": [
    "cat_features = [\n",
    "        \" workclass\",\n",
    "        \"education\",\n",
    "        \"marital-status\",\n",
    "        \"occupation\",\n",
    "        \"relationship\",\n",
    "        \"race\",\n",
    "        \"sex\",\n",
    "        \"native-country\"\n",
    "    ]\n",
    "\n",
    "df[cat_features[0]].unique()\n",
    "\n",
    "for cls in df[cat_features[0]].unique():\n",
    "            df_temp = df[df[cat_features[0]] == cls]\n",
    "            print(df_temp.head())"
   ]
  },
  {
   "cell_type": "code",
   "execution_count": null,
   "id": "d7c6b9a8",
   "metadata": {},
   "outputs": [],
   "source": [
    "# drop outliers\n",
    "min_price = 10\n",
    "max_price = 340\n",
    "idx = df['price'].between(min_price, max_price)\n",
    "df = df[idx].copy()\n",
    "# convert last review to datetime\n",
    "df['last_review'] = pd.to_datetime(df['last_review'])"
   ]
  }
 ],
 "metadata": {
  "kernelspec": {
   "display_name": "Python 3.10.5 ('nyc_airbnb_dev')",
   "language": "python",
   "name": "python3"
  },
  "language_info": {
   "codemirror_mode": {
    "name": "ipython",
    "version": 3
   },
   "file_extension": ".py",
   "mimetype": "text/x-python",
   "name": "python",
   "nbconvert_exporter": "python",
   "pygments_lexer": "ipython3",
   "version": "3.10.5"
  },
  "vscode": {
   "interpreter": {
    "hash": "49763e520b3a66a0299eed5a46fa2c3a34e7a416e1b6d8de77fa764bf0d435ec"
   }
  }
 },
 "nbformat": 4,
 "nbformat_minor": 5
}
