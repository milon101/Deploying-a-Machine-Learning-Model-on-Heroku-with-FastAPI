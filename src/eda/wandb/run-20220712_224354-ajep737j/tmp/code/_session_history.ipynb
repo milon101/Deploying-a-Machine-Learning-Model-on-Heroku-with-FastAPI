{
 "cells": [
  {
   "cell_type": "code",
   "execution_count": 1,
   "id": "a9ff44b9",
   "metadata": {},
   "outputs": [
    {
     "data": {
      "text/html": [
       "wandb version 0.12.21 is available!  To upgrade, please run:\n",
       " $ pip install wandb --upgrade"
      ],
      "text/plain": [
       "<IPython.core.display.HTML object>"
      ]
     },
     "metadata": {},
     "output_type": "display_data"
    },
    {
     "data": {
      "text/html": [
       "Tracking run with wandb version 0.12.19"
      ],
      "text/plain": [
       "<IPython.core.display.HTML object>"
      ]
     },
     "metadata": {},
     "output_type": "display_data"
    },
    {
     "data": {
      "text/html": [
       "Run data is saved locally in <code>/home/imdadul/Project Folder/Deploying a Machine Learning Model on Heroku with FastAPI/src/eda/wandb/run-20220712_224354-ajep737j</code>"
      ],
      "text/plain": [
       "<IPython.core.display.HTML object>"
      ]
     },
     "metadata": {},
     "output_type": "display_data"
    },
    {
     "data": {
      "text/html": [
       "Syncing run <strong><a href=\"https://wandb.ai/milon101/usa_census/runs/ajep737j\" target=\"_blank\">solar-flower-70</a></strong> to <a href=\"https://wandb.ai/milon101/usa_census\" target=\"_blank\">Weights & Biases</a> (<a href=\"https://wandb.me/run\" target=\"_blank\">docs</a>)<br/>"
      ],
      "text/plain": [
       "<IPython.core.display.HTML object>"
      ]
     },
     "metadata": {},
     "output_type": "display_data"
    }
   ],
   "source": [
    "# import libraries\n",
    "import wandb\n",
    "import pandas as pd\n",
    "                                                                                                                                                                                                                                                                                                                                                                                                                                                                                                                         \n",
    "run = wandb.init(project=\"usa_census\", group=\"eda\", save_code=True)\n",
    "local_path = wandb.use_artifact(\"census.csv:latest\").file()\n",
    "df = pd.read_csv(local_path, \" \")"
   ]
  },
  {
   "cell_type": "code",
   "execution_count": 2,
   "id": "96837313",
   "metadata": {},
   "outputs": [],
   "source": [
    "run.finish()"
   ]
  }
 ],
 "metadata": {
  "kernelspec": {
   "display_name": "Python 3",
   "language": "python",
   "name": "python3"
  },
  "language_info": {
   "codemirror_mode": {
    "name": "ipython",
    "version": 3
   },
   "file_extension": ".py",
   "mimetype": "text/x-python",
   "name": "python",
   "nbconvert_exporter": "python",
   "pygments_lexer": "ipython3",
   "version": "3.10.5"
  }
 },
 "nbformat": 4,
 "nbformat_minor": 5
}
